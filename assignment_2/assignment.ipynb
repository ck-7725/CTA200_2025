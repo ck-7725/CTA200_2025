{
 "cells": [
  {
   "cell_type": "markdown",
   "id": "bb29e09e-cb96-4add-8b09-933ffc92632b",
   "metadata": {},
   "source": [
    "# Part 1\n",
    "\n",
    "Write a python function for the function $f(x) = x^3 − x^2 − 1$. Also, write a function for it's derivative (you will have to work out $df / dx$ yourself), you can call these functions `f` and `df`."
   ]
  },
  {
   "cell_type": "code",
   "execution_count": 2,
   "id": "391668b4-79fa-4d29-af86-1a63951e7ebb",
   "metadata": {},
   "outputs": [],
   "source": [
    "def f(x):\n",
    "    \"\"\" This function calculates the function f(x) = x^3 - x^2 - 1\n",
    "    \n",
    "    Parameters\n",
    "    ----------\n",
    "    x : integer/double\n",
    "        Value to be input to the function\n",
    "    \n",
    "    Returns\n",
    "    -------\n",
    "    Output of f(x)\n",
    "    \n",
    "    \"\"\"\n",
    "    return x ** 3 - x ** 2 - 1\n",
    "\n",
    "\n",
    "def df(x):\n",
    "    \"\"\" This function calculates the derivative of the function f(x) = x^3 - x^2 - 1, which is df = 3x^2 - 2x\n",
    "    \n",
    "    Parameters\n",
    "    ----------\n",
    "    x : integer/double\n",
    "        Value to be input to the derivative\n",
    "        \n",
    "    Returns\n",
    "    -------\n",
    "    Output of f'(x)\n",
    "    \"\"\"\n",
    "    return 3 * x ** 2 - 2 * x"
   ]
  },
  {
   "cell_type": "markdown",
   "id": "59f00d81-5c31-45ae-bdd2-373bea268fcb",
   "metadata": {},
   "source": [
    "# Part 2\n",
    "\n",
    "Write a function `newton(f, df, x0, epsilon=1e-6, max_iter=30)` which performs a Newton Iteration of the function `f` with derivative `df`.\n",
    "\n",
    "Newton iteration finds the root ($x_n$ such that $f(x_n) = 0$).\n",
    "\n",
    "To do this, implement the recursive expression $x_{n+1} = x_n - \\frac{f(x_n)}{f'(x_n)}$ using a loop.\n",
    "\n",
    "The iteration should stop either when `max_iter` is exceeded or when $|f(x_n)|$ < `epsilon`.\n",
    "\n",
    "If the method succeeds, (ie $|f(x_n)|$ < `epsilon`), then your function should print `\"Found root in <N> iterations\"` and should return the value of $x_n$ . Otherwise, it should print `\"Iteration failed\"` and return `None`.\n",
    "\n",
    "Make sure that your function is documented with Numpy style documentation."
   ]
  },
  {
   "cell_type": "code",
   "execution_count": 6,
   "id": "99c7908a-7714-4d70-96a6-56a9e5e0c6d0",
   "metadata": {},
   "outputs": [],
   "source": [
    "def newton(f, df, x0, epsilon=1e-6, max_iter=30):\n",
    "    \"\"\" Performs a Newton Iteration of the function f with derivative df.\n",
    "    \n",
    "    Parameters\n",
    "    ----------\n",
    "    f : function\n",
    "        Function to perform Newton Iteration on\n",
    "    \n",
    "    df : function\n",
    "        Derivative of f\n",
    "    \n",
    "    x0 : integer/double\n",
    "        Starting value of x_n\n",
    "    \n",
    "    epsilon : integer/double\n",
    "        Precision threshold for Newton Iteration\n",
    "    \n",
    "    max_iter : int\n",
    "        Maximum number of iterations\n",
    "    \n",
    "    Returns\n",
    "    -------\n",
    "    On success, value of x_n such that |f(x_n)| < epsilon\n",
    "    On failure, None\n",
    "    \"\"\"\n",
    "    x_n = x_0\n",
    "    iters = 0\n",
    "    \n",
    "    while f(x_n) >= epsilon and iters <= 30:\n",
    "        x_n = x_n - f(x_n)/df(x_n)\n",
    "        iters += 1\n",
    "    \n",
    "    if f(x_n) < epsilon:\n",
    "        print(f\"Found root in {iters} iterations\")\n",
    "        return x_n\n",
    "    \n",
    "    print(\"Iteration failed\")\n",
    "    return None"
   ]
  },
  {
   "cell_type": "markdown",
   "id": "b5315c3a-ae1d-4fcd-9270-fb8315e5e710",
   "metadata": {},
   "source": [
    "# Part 3\n",
    "Try out your function with the function you defined in part 1. You can experiment with setting $x_0$ differently (show at least two examples of $x_0$ in the notebook). Leave `epsilon` and `max_iter` as the default values specified in part 2.\n",
    "\n",
    "Try reducing `epsilon` to 1e-8. Does it still work? If so, how many more iterations does it take to converge."
   ]
  },
  {
   "cell_type": "code",
   "execution_count": 22,
   "id": "58733afc-f3f0-4fb0-ba15-b7323d8265ca",
   "metadata": {},
   "outputs": [
    {
     "name": "stdout",
     "output_type": "stream",
     "text": [
      "Found root in 9 iterations\n"
     ]
    },
    {
     "data": {
      "text/plain": [
       "1.465571232470246"
      ]
     },
     "execution_count": 22,
     "metadata": {},
     "output_type": "execute_result"
    }
   ],
   "source": [
    "x_0 = 10\n",
    "newton(f, df, x_0)"
   ]
  },
  {
   "cell_type": "code",
   "execution_count": 21,
   "id": "bf345295-21ff-4821-945f-5da494895341",
   "metadata": {},
   "outputs": [
    {
     "name": "stdout",
     "output_type": "stream",
     "text": [
      "Found root in 20 iterations\n"
     ]
    },
    {
     "data": {
      "text/plain": [
       "1.4655713974990228"
      ]
     },
     "execution_count": 21,
     "metadata": {},
     "output_type": "execute_result"
    }
   ],
   "source": [
    "x_0 = 1000\n",
    "newton(f, df, x_0)"
   ]
  },
  {
   "cell_type": "code",
   "execution_count": 18,
   "id": "45a78b6b-4b72-440e-a85f-ba64613fdd06",
   "metadata": {},
   "outputs": [
    {
     "name": "stdout",
     "output_type": "stream",
     "text": [
      "Iteration failed\n"
     ]
    }
   ],
   "source": [
    "x_0 = 10\n",
    "newton(f, df, x_0, epsilon=1e0-8)"
   ]
  }
 ],
 "metadata": {
  "kernelspec": {
   "display_name": "Python 3 (ipykernel)",
   "language": "python",
   "name": "python3"
  },
  "language_info": {
   "codemirror_mode": {
    "name": "ipython",
    "version": 3
   },
   "file_extension": ".py",
   "mimetype": "text/x-python",
   "name": "python",
   "nbconvert_exporter": "python",
   "pygments_lexer": "ipython3",
   "version": "3.10.2"
  }
 },
 "nbformat": 4,
 "nbformat_minor": 5
}
